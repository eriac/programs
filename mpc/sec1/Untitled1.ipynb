{
 "cells": [
  {
   "cell_type": "code",
   "execution_count": 2,
   "metadata": {},
   "outputs": [],
   "source": [
    "%matplotlib inline\n",
    "import matplotlib.pyplot as plt\n",
    "import numpy as np"
   ]
  },
  {
   "cell_type": "code",
   "execution_count": 4,
   "metadata": {},
   "outputs": [
    {
     "data": {
      "text/plain": [
       "<matplotlib.collections.PathCollection at 0x7f6e48dd47f0>"
      ]
     },
     "execution_count": 4,
     "metadata": {},
     "output_type": "execute_result"
    },
    {
     "data": {
      "image/png": "[encoded data removed]",
      "text/plain": [
       "<Figure size 432x288 with 1 Axes>"
      ]
     },
     "metadata": {
      "needs_background": "light"
     },
     "output_type": "display_data"
    }
   ],
   "source": [
    "step=100\n",
    "dt=0.5\n",
    "\n",
    "v=0.1\n",
    "w=0.5\n",
    "\n",
    "true=np.zeros((step,2))\n",
    "sim1=np.zeros((step,2))\n",
    "sim2=np.zeros((step,2))\n",
    "\n",
    "for i in range(step):\n",
    "    r=v/w\n",
    "    true[i,0]=r*np.cos(w*i*dt)-r\n",
    "    true[i,1]=r*np.sin(w*i*dt)\n",
    "    \n",
    "    if i>0:\n",
    "        t=w*(i-1)*dt\n",
    "        sim1[i,0] = sim1[i-1,0] - np.sin(t) * v*dt\n",
    "        sim1[i,1] = sim1[i-1,1] + np.cos(t) * v*dt\n",
    "\n",
    "        sim2[i,0] = sim2[i-1,0] - np.sin(t + w*dt/2) * v*dt\n",
    "        sim2[i,1] = sim2[i-1,1] + np.cos(t + w*dt/2) * v*dt\n",
    "\n",
    " \n",
    "# 散布図を描画\n",
    "plt.scatter(true[:,0], true[:,1], s=3, c=\"red\")\n",
    "plt.scatter(sim1[:,0], sim1[:,1], s=3, c=\"green\")\n",
    "plt.scatter(sim2[:,0], sim2[:,1], s=3, c=\"blue\")"
   ]
  },
  {
   "cell_type": "code",
   "execution_count": null,
   "metadata": {},
   "outputs": [],
   "source": []
  }
 ],
 "metadata": {
  "kernelspec": {
   "display_name": "Python 3",
   "language": "python",
   "name": "python3"
  },
  "language_info": {
   "codemirror_mode": {
    "name": "ipython",
    "version": 3
   },
   "file_extension": ".py",
   "mimetype": "text/x-python",
   "name": "python",
   "nbconvert_exporter": "python",
   "pygments_lexer": "ipython3",
   "version": "3.5.0"
  }
 },
 "nbformat": 4,
 "nbformat_minor": 2
}
